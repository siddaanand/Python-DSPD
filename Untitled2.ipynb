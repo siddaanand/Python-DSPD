{
 "cells": [
  {
   "cell_type": "code",
   "execution_count": 1,
   "metadata": {},
   "outputs": [
    {
     "name": "stdout",
     "output_type": "stream",
     "text": [
      "18\n"
     ]
    }
   ],
   "source": [
    "#Read the input as two limits and Print the output as Palindrome count between the two limits\n",
    "\n",
    "def num_palindromes(start, end):\n",
    "    count = 0\n",
    "    for i in range(start, end + 1):\n",
    "        if str(i) == str(i)[::-1]:\n",
    "            count += 1\n",
    "    return count\n",
    "count = num_palindromes(1,100)\n",
    "print(count)"
   ]
  },
  {
   "cell_type": "code",
   "execution_count": 2,
   "metadata": {},
   "outputs": [
    {
     "name": "stdout",
     "output_type": "stream",
     "text": [
      "enter number127\n",
      "127\n",
      "848\n"
     ]
    }
   ],
   "source": [
    "\n",
    "#Accept a number as an input and check whether the given number is palindrome or not\n",
    "\n",
    "n=int(input(\"enter number\"))\n",
    "s = 0\n",
    "while True:\n",
    "    k = str(n)\n",
    "    if k == k[::-1]:\n",
    "        print(k)\n",
    "        break\n",
    "    else:\n",
    "      m = int(k[::-1])\n",
    "      n += m\n",
    "      s += 1\n",
    "      print(k)"
   ]
  },
  {
   "cell_type": "code",
   "execution_count": 3,
   "metadata": {},
   "outputs": [
    {
     "name": "stdout",
     "output_type": "stream",
     "text": [
      "456\n",
      "15\n"
     ]
    }
   ],
   "source": [
    "\n",
    "#Accept input as a string and display sum of digits as the output \n",
    "n=input('')\n",
    "sum= 0\n",
    "for x in n:\n",
    "    if x.isdigit() == True:\n",
    "            z = int(x)\n",
    "            sum= sum + z\n",
    "print(sum)"
   ]
  },
  {
   "cell_type": "code",
   "execution_count": 4,
   "metadata": {},
   "outputs": [
    {
     "name": "stdout",
     "output_type": "stream",
     "text": [
      "fizzbuzz\n",
      "1\n",
      "2\n",
      "fizz\n",
      "4\n",
      "buzz\n"
     ]
    }
   ],
   "source": [
    "#Write a Python program which iterates the integers from 1 to 50. For multiples of three print \"Fizz\" instead of the number and for the multiples of five print \"Buzz\". For numbers which are multiples of both three and five print \"FizzBuzz\".\n",
    "\n",
    "for fizzbuzz in range(6):\n",
    "    if fizzbuzz % 3 == 0 and fizzbuzz % 5 == 0:\n",
    "        print(\"fizzbuzz\")\n",
    "        continue\n",
    "    elif fizzbuzz % 3 == 0:\n",
    "        print(\"fizz\")\n",
    "        continue\n",
    "    elif fizzbuzz % 5 == 0:\n",
    "        print(\"buzz\")\n",
    "        continue\n",
    "    print(fizzbuzz)"
   ]
  },
  {
   "cell_type": "code",
   "execution_count": 5,
   "metadata": {},
   "outputs": [
    {
     "name": "stdout",
     "output_type": "stream",
     "text": [
      "num1126\n",
      "num2415\n",
      "num3545\n",
      "415\n"
     ]
    }
   ],
   "source": [
    "#Write a Python program to find the median of three values.\n",
    "a = int(input(\"num1\"))\n",
    "b = int(input(\"num2\"))\n",
    "c = int(input(\"num3\"))\n",
    "\n",
    "if b < a and a < c:\n",
    "    print(a)\n",
    "elif c < a and a < b:\n",
    "    print(a)\n",
    "    \n",
    "elif c < b and b < a:\n",
    "    print(b)\n",
    "elif a < b and b < c:\n",
    "    print(b)\n",
    "    \n",
    "elif b < c and c < a:\n",
    "    print(c)    \n",
    "elif a < c and c < b:\n",
    "    print(c)"
   ]
  },
  {
   "cell_type": "code",
   "execution_count": 6,
   "metadata": {},
   "outputs": [
    {
     "name": "stdout",
     "output_type": "stream",
     "text": [
      "Enter the string :aechjsr@\n",
      "vowels 2\n",
      "Consonants: 5\n",
      "Symbols : 1\n"
     ]
    }
   ],
   "source": [
    "\n",
    "str = input(\"Enter the string :\")\n",
    "vowels = 0\n",
    "consonants = 0\n",
    "symbols = 0\n",
    "str = str.lower()\n",
    "for i in range(0, len(str)):\n",
    "    if(str[i] == 'a'or str[i] == 'e' or str[i] == 'i'\n",
    "       or str[i] == 'o' or str[i] == 'u'):\n",
    "        vowels = vowels + 1\n",
    "    elif ((str[i] >= 'a'and str[i] <= 'z')):\n",
    "            consonants = consonants + 1\n",
    "    else:\n",
    "         symbols = symbols + 1\n",
    "print(\"vowels\" , vowels)\n",
    "print(\"Consonants:\", consonants)\n",
    "print(\"Symbols :\", symbols)"
   ]
  },
  {
   "cell_type": "code",
   "execution_count": 7,
   "metadata": {},
   "outputs": [
    {
     "name": "stdout",
     "output_type": "stream",
     "text": [
      "puboif\n"
     ]
    }
   ],
   "source": [
    "#input:orange  →   output : puboif\n",
    "value = 'orange'\n",
    "var=(chr(ord(value[0])+1))\n",
    "var1=(chr(ord(value[1])+3))\n",
    "var2=(chr(ord(value[2])+1))\n",
    "var3=(chr(ord(value[3])+1))\n",
    "var4=(chr(ord(value[4])+2))\n",
    "var5=(chr(ord(value[5])+1))\n",
    "value=var+var1+var2+var3+var4+var5\n",
    "print(value)"
   ]
  },
  {
   "cell_type": "code",
   "execution_count": 8,
   "metadata": {},
   "outputs": [
    {
     "name": "stdout",
     "output_type": "stream",
     "text": [
      "enter string:  abbaaccbbaaa \n",
      "2\n"
     ]
    }
   ],
   "source": [
    "\n",
    "#count the no.of pairs of a in the given string(Infosys InfyTQ)\n",
    "str=input(\"enter string:  \")\n",
    "count=0\n",
    "i=0\n",
    "k=len(str)\n",
    "while i<k-1:\n",
    "    if(str[i]=='a'):\n",
    "        if(str[i+1]=='a'):\n",
    "            count+=1\n",
    "            i+=1\n",
    "    i+=1\n",
    "print(count)"
   ]
  },
  {
   "cell_type": "code",
   "execution_count": 9,
   "metadata": {},
   "outputs": [
    {
     "name": "stdout",
     "output_type": "stream",
     "text": [
      "string : ((((()()()))))()\n",
      "8\n"
     ]
    }
   ],
   "source": [
    "#Question 3:\n",
    "s=input(\"string : \")\n",
    "count=0\n",
    "i=0\n",
    "while i<(len(s)-1):\n",
    "    if(s[i]=='('):\n",
    "        count+=1\n",
    "    i+=1\n",
    "print(count)"
   ]
  },
  {
   "cell_type": "code",
   "execution_count": null,
   "metadata": {},
   "outputs": [],
   "source": []
  }
 ],
 "metadata": {
  "kernelspec": {
   "display_name": "Python 3",
   "language": "python",
   "name": "python3"
  },
  "language_info": {
   "codemirror_mode": {
    "name": "ipython",
    "version": 3
   },
   "file_extension": ".py",
   "mimetype": "text/x-python",
   "name": "python",
   "nbconvert_exporter": "python",
   "pygments_lexer": "ipython3",
   "version": "3.7.4"
  }
 },
 "nbformat": 4,
 "nbformat_minor": 4
}
