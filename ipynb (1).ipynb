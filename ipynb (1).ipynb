{
 "cells": [
  {
   "cell_type": "markdown",
   "metadata": {},
   "source": [
    "\n",
    "\n",
    "1. Generate the following pattern\n",
    "  "
   ]
  },
  {
   "cell_type": "code",
   "execution_count": 1,
   "metadata": {},
   "outputs": [
    {
     "name": "stdout",
     "output_type": "stream",
     "text": [
      "#rows:5\n",
      "* \n",
      "* * \n",
      "* * * \n",
      "* * * * \n",
      "* * * * * \n"
     ]
    }
   ],
   "source": [
    "x= int(input(\"#rows:\"))\n",
    "for r in range(0,x):\n",
    "    for c in range(0,r+1):\n",
    "        print('* ',end=\"\")\n",
    "    print('\\r')"
   ]
  },
  {
   "cell_type": "markdown",
   "metadata": {},
   "source": [
    "2. Display multiplication table of K. Take k value from user"
   ]
  },
  {
   "cell_type": "code",
   "execution_count": 3,
   "metadata": {},
   "outputs": [
    {
     "name": "stdout",
     "output_type": "stream",
     "text": [
      "Enter K #no for multiplication:7\n",
      "enter #no multiplications:11\n",
      "7 * 1 = 7\n",
      "7 * 2 = 14\n",
      "7 * 3 = 21\n",
      "7 * 4 = 28\n",
      "7 * 5 = 35\n",
      "7 * 6 = 42\n",
      "7 * 7 = 49\n",
      "7 * 8 = 56\n",
      "7 * 9 = 63\n",
      "7 * 10 = 70\n"
     ]
    }
   ],
   "source": [
    "num= int(input(\"Enter K #no for multiplication:\"))\n",
    "x=int(input(\"enter #no multiplications:\"))\n",
    "for i in range(1,x):\n",
    "    print(num,'*',i,'=', num*i)"
   ]
  },
  {
   "cell_type": "markdown",
   "metadata": {},
   "source": [
    "3. Roots of quadratic equation"
   ]
  },
  {
   "cell_type": "code",
   "execution_count": 7,
   "metadata": {},
   "outputs": [
    {
     "name": "stdout",
     "output_type": "stream",
     "text": [
      "enter a value:10\n",
      "enter b value:-9\n",
      "enter c value:5\n",
      "No roots \n"
     ]
    }
   ],
   "source": [
    "import math\n",
    "a = float(input(\"enter a value:\"))\n",
    "b = float(input(\"enter b value:\"))\n",
    "c = float(input(\"enter c value:\"))\n",
    "\n",
    "d = b**2 - 4*a*c\n",
    "\n",
    "if d>0:\n",
    "    root1 = (((-b)-math.sqrt(d))//(2*a))\n",
    "    root2 = (((-b)+math.sqrt(d))//(2*a))\n",
    "    print(\"roots are: \",root1,root2)\n",
    "elif d==0:\n",
    "    rootX=((-b)//2*a)\n",
    "    print(\"roots are:\",rootX)\n",
    "else:\n",
    "    print(\"No roots \")"
   ]
  },
  {
   "cell_type": "markdown",
   "metadata": {},
   "source": [
    "4. Convert a decimal number to Binary\n"
   ]
  },
  {
   "cell_type": "code",
   "execution_count": 9,
   "metadata": {},
   "outputs": [
    {
     "name": "stdout",
     "output_type": "stream",
     "text": [
      "Decimal #no10\n",
      "[0, 1, 0, 1] "
     ]
    }
   ],
   "source": [
    " \n",
    "n = int(input(\"Decimal #no\"))\n",
    "c=[]\n",
    "while n>0:\n",
    "    d=n%2\n",
    "    c.append(d)\n",
    "    n=n//2\n",
    "print(c,end=\" \")"
   ]
  },
  {
   "cell_type": "markdown",
   "metadata": {},
   "source": [
    "5.Generate first N number of Fibonacci numbers. Take N value from the user"
   ]
  },
  {
   "cell_type": "code",
   "execution_count": 10,
   "metadata": {},
   "outputs": [
    {
     "name": "stdout",
     "output_type": "stream",
     "text": [
      "#n5\n",
      "Series:  0 1 1 2 3 "
     ]
    }
   ],
   "source": [
    "n = int(input(\"#n\"))\n",
    "x=0\n",
    "b=1\n",
    "c=1\n",
    "s=0\n",
    "print('Series: ',end=' ')\n",
    "while(c<=n):\n",
    "    print(s,end=' ')\n",
    "    c+=1\n",
    "    a=b\n",
    "    b=s\n",
    "    s=a+b"
   ]
  },
  {
   "cell_type": "code",
   "execution_count": null,
   "metadata": {},
   "outputs": [],
   "source": []
  }
 ],
 "metadata": {
  "kernelspec": {
   "display_name": "Python 3",
   "language": "python",
   "name": "python3"
  },
  "language_info": {
   "codemirror_mode": {
    "name": "ipython",
    "version": 3
   },
   "file_extension": ".py",
   "mimetype": "text/x-python",
   "name": "python",
   "nbconvert_exporter": "python",
   "pygments_lexer": "ipython3",
   "version": "3.7.4"
  }
 },
 "nbformat": 4,
 "nbformat_minor": 4
}
